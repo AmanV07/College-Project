{
 "cells": [
  {
   "cell_type": "markdown",
   "metadata": {
    "papermill": {
     "duration": 0.031467,
     "end_time": "2020-11-11T14:14:24.101788",
     "exception": false,
     "start_time": "2020-11-11T14:14:24.070321",
     "status": "completed"
    },
    "tags": []
   },
   "source": [
    "# Hierarchical Agglomerative Clustering"
   ]
  },
  {
   "cell_type": "markdown",
   "metadata": {
    "papermill": {
     "duration": 0.028846,
     "end_time": "2020-11-11T14:14:24.160527",
     "exception": false,
     "start_time": "2020-11-11T14:14:24.131681",
     "status": "completed"
    },
    "tags": []
   },
   "source": [
    "Hierarchical clustering algorithms are either top-down or bottom Up. Bottom up algorithms treat each document as a singleton cluster at the outset and then successively merge (or agglomerate) pairs of clusters until all clusters\n",
    "have been merged into a single cluster that contains all documents. Bottom up hierarchical clustering is therefore called hierarchical agglomerative clustering or HAC. Top-down clustering requires a method for splitting a cluster. HAC proceeds by splitting clusters recursively until individual documents are reached."
   ]
  },
  {
   "cell_type": "markdown",
   "metadata": {
    "papermill": {
     "duration": 0.029023,
     "end_time": "2020-11-11T14:14:24.799879",
     "exception": false,
     "start_time": "2020-11-11T14:14:24.770856",
     "status": "completed"
    },
    "tags": []
   },
   "source": [
    "# How to Implementing Hierarchical agglomerative clustering ?\n",
    "\n",
    "1. At the start, treat each data point as one cluster. Therefore, the number of clusters at the start will be K, while K is an integer representing the number of data points.\n",
    "1. Form a cluster by joining the two closest data points resulting in K-1 clusters.\n",
    "1. Form more clusters by joining the two closest clusters resulting in K-2 clusters.\n",
    "1. Repeat the above three steps until one big cluster is formed.\n",
    "1. Once single cluster is formed, dendrograms are used to divide into multiple clusters depending upon the problem. We will study the concept of dendrogram in detail in an upcoming section.\n",
    "\n",
    "There are different ways to find distance between the clusters. The distance itself can be Euclidean or Manhattan distance. Following are some of the options to measure distance between two clusters:\n",
    "\n",
    "1. Measure the distance between the closes points of two clusters.\n",
    "1. Measure the distance between the farthest points of two clusters.\n",
    "1. Measure the distance between the centroids of two clusters.\n",
    "1. 1.Measure the distance between all possible combination of points between the two clusters and take the mean."
   ]
  },
  {
   "cell_type": "markdown",
   "metadata": {
    "papermill": {
     "duration": 0.028758,
     "end_time": "2020-11-11T14:14:24.857774",
     "exception": false,
     "start_time": "2020-11-11T14:14:24.829016",
     "status": "completed"
    },
    "tags": []
   },
   "source": [
    "# Clustering the points of a random array"
   ]
  },
  {
   "cell_type": "code",
   "execution_count": 1,
   "metadata": {
    "execution": {
     "iopub.execute_input": "2020-11-11T14:14:24.925683Z",
     "iopub.status.busy": "2020-11-11T14:14:24.924763Z",
     "iopub.status.idle": "2020-11-11T14:14:24.927972Z",
     "shell.execute_reply": "2020-11-11T14:14:24.928500Z"
    },
    "papermill": {
     "duration": 0.042331,
     "end_time": "2020-11-11T14:14:24.928669",
     "exception": false,
     "start_time": "2020-11-11T14:14:24.886338",
     "status": "completed"
    },
    "tags": []
   },
   "outputs": [],
   "source": [
    "# importing libraries\n",
    "import numpy as np\n",
    "import matplotlib.pyplot as plt\n",
    "from scipy.cluster.hierarchy import dendrogram, linkage"
   ]
  },
  {
   "cell_type": "code",
   "execution_count": 2,
   "metadata": {},
   "outputs": [],
   "source": [
    "# creating a random array\n",
    "X = np.array([[5,3],\n",
    "    [10,15],\n",
    "    [15,12],\n",
    "    [24,10],\n",
    "    [30,30],\n",
    "    [85,70],\n",
    "    [71,80],\n",
    "    [60,78],\n",
    "    [70,55],\n",
    "    [80,91],])"
   ]
  },
  {
   "cell_type": "code",
   "execution_count": 3,
   "metadata": {
    "execution": {
     "iopub.execute_input": "2020-11-11T14:14:25.061657Z",
     "iopub.status.busy": "2020-11-11T14:14:25.061013Z",
     "iopub.status.idle": "2020-11-11T14:14:25.301716Z",
     "shell.execute_reply": "2020-11-11T14:14:25.302185Z"
    },
    "papermill": {
     "duration": 0.286123,
     "end_time": "2020-11-11T14:14:25.302319",
     "exception": false,
     "start_time": "2020-11-11T14:14:25.016196",
     "status": "completed"
    },
    "tags": []
   },
   "outputs": [
    {
     "data": {
      "image/png": "[encoded data removed]",
      "text/plain": [
       "<Figure size 432x288 with 1 Axes>"
      ]
     },
     "metadata": {
      "needs_background": "light"
     },
     "output_type": "display_data"
    }
   ],
   "source": [
    "# plotting the array\n",
    "\n",
    "fig , ax = plt.subplots()\n",
    "\n",
    "ax.scatter(X[:,0],X[:,1],color = \"red\",label = \"Data Points\")\n",
    "ax.set(title = \"Scatter Plot\",xlabel = \"X\",ylabel = \"Y\")\n",
    "ax.legend();"
   ]
  },
  {
   "cell_type": "code",
   "execution_count": 4,
   "metadata": {
    "execution": {
     "iopub.execute_input": "2020-11-11T14:14:25.549398Z",
     "iopub.status.busy": "2020-11-11T14:14:25.548675Z",
     "iopub.status.idle": "2020-11-11T14:14:26.176908Z",
     "shell.execute_reply": "2020-11-11T14:14:26.176365Z"
    },
    "papermill": {
     "duration": 0.665295,
     "end_time": "2020-11-11T14:14:26.177020",
     "exception": false,
     "start_time": "2020-11-11T14:14:25.511725",
     "status": "completed"
    },
    "tags": []
   },
   "outputs": [
    {
     "data": {
      "image/png": "[encoded data removed]",
      "text/plain": [
       "<Figure size 720x360 with 1 Axes>"
      ]
     },
     "metadata": {
      "needs_background": "light"
     },
     "output_type": "display_data"
    }
   ],
   "source": [
    "# Drawing Dendrograms\n",
    "\n",
    "linked = linkage(X, 'single')\n",
    "\n",
    "labelList = range(1, 11)\n",
    "\n",
    "plt.figure(figsize=(10, 5))\n",
    "dendrogram(linked,labels=labelList, distance_sort='descending')\n",
    "plt.title(\"Dendrogram\");\n",
    "\n"
   ]
  },
  {
   "cell_type": "code",
   "execution_count": null,
   "metadata": {},
   "outputs": [],
   "source": []
  }
 ],
 "metadata": {
  "kernelspec": {
   "display_name": "Python 3",
   "language": "python",
   "name": "python3"
  },
  "language_info": {
   "codemirror_mode": {
    "name": "ipython",
    "version": 3
   },
   "file_extension": ".py",
   "mimetype": "text/x-python",
   "name": "python",
   "nbconvert_exporter": "python",
   "pygments_lexer": "ipython3",
   "version": "3.8.5"
  },
  "papermill": {
   "duration": 796.635604,
   "end_time": "2020-11-11T14:27:35.105773",
   "environment_variables": {},
   "exception": null,
   "input_path": "__notebook__.ipynb",
   "output_path": "__notebook__.ipynb",
   "parameters": {},
   "start_time": "2020-11-11T14:14:18.470169",
   "version": "2.1.0"
  }
 },
 "nbformat": 4,
 "nbformat_minor": 4
}
